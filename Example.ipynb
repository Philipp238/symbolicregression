{
 "cells": [
  {
   "cell_type": "code",
   "execution_count": 1,
   "id": "3bf3ccd4-bd5a-4b9b-896c-fb97393263c9",
   "metadata": {},
   "outputs": [
    {
     "name": "stderr",
     "output_type": "stream",
     "text": [
      "/home/philipp/anaconda3/envs/endToEndSR/lib/python3.7/site-packages/tqdm/auto.py:22: TqdmWarning: IProgress not found. Please update jupyter and ipywidgets. See https://ipywidgets.readthedocs.io/en/stable/user_install.html\n",
      "  from .autonotebook import tqdm as notebook_tqdm\n"
     ]
    }
   ],
   "source": [
    "import torch\n",
    "import numpy as np\n",
    "import sympy as sp\n",
    "import os, sys\n",
    "import symbolicregression\n",
    "import requests\n",
    "import matplotlib.pyplot as plt\n",
    "from IPython.display import display"
   ]
  },
  {
   "cell_type": "code",
   "execution_count": 69,
   "metadata": {},
   "outputs": [
    {
     "data": {
      "text/plain": [
       "True"
      ]
     },
     "execution_count": 69,
     "metadata": {},
     "output_type": "execute_result"
    }
   ],
   "source": [
    "os.path.isfile(model_path)"
   ]
  },
  {
   "cell_type": "code",
   "execution_count": 2,
   "id": "52a6b685-a1ed-4cb5-975d-f1bd316ec778",
   "metadata": {},
   "outputs": [
    {
     "name": "stdout",
     "output_type": "stream",
     "text": [
      "cwd: /home/philipp/projects/phyiscalLawLearning/symbolicregression\n",
      "cuda:0\n",
      "Model successfully loaded!\n"
     ]
    }
   ],
   "source": [
    "model_path = \"model.pt\" \n",
    "try:\n",
    "    if not os.path.isfile(model_path): \n",
    "        url = \"https://dl.fbaipublicfiles.com/symbolicregression/model1.pt\"\n",
    "        r = requests.get(url, allow_redirects=True)\n",
    "        open(model_path, 'wb').write(r.content)\n",
    "    if not torch.cuda.is_available():\n",
    "        model = torch.load(model_path, map_location=torch.device('cpu'))\n",
    "    else:\n",
    "        model = torch.load(model_path)\n",
    "        model = model.cuda()\n",
    "    print(model.device)\n",
    "    print(\"Model successfully loaded!\")\n",
    "\n",
    "except Exception as e:\n",
    "    print(\"ERROR: model not loaded! path was: {}\".format(model_path))\n",
    "    print(e)    "
   ]
  },
  {
   "cell_type": "code",
   "execution_count": 3,
   "id": "cb5ebd8c-235e-4051-87a4-acbafadf937c",
   "metadata": {},
   "outputs": [],
   "source": [
    "est = symbolicregression.model.SymbolicTransformerRegressor(\n",
    "                        model=model,\n",
    "                        max_input_points=200,\n",
    "                        n_trees_to_refine=100,\n",
    "                        rescale=True\n",
    "                        )"
   ]
  },
  {
   "cell_type": "code",
   "execution_count": 63,
   "id": "f539c7ed-29e3-453a-b226-09dfab999fec",
   "metadata": {},
   "outputs": [],
   "source": [
    "##Example of data\n",
    "x = np.random.randn(100, 1)\n",
    "# x = np.arange(0,10,0.1).reshape(-1,1)\n",
    "y = np.cos(2*np.pi*x[:,0]) # +x[:,1]**2\n"
   ]
  },
  {
   "cell_type": "code",
   "execution_count": 64,
   "metadata": {},
   "outputs": [
    {
     "data": {
      "text/plain": [
       "(100, 1)"
      ]
     },
     "execution_count": 64,
     "metadata": {},
     "output_type": "execute_result"
    }
   ],
   "source": [
    "x.shape"
   ]
  },
  {
   "cell_type": "code",
   "execution_count": 65,
   "id": "c699a062-41e6-4747-87ce-1e75a2496b74",
   "metadata": {},
   "outputs": [
    {
     "data": {
      "text/latex": [
       "$\\displaystyle 1.0 \\cos{\\left(6.35913684854485 x_{0} - 0.015199903640178 \\right)} + 0.001$"
      ],
      "text/plain": [
       "1.0*cos(6.35913684854485*x_0 - 0.015199903640178) + 0.001"
      ]
     },
     "metadata": {},
     "output_type": "display_data"
    }
   ],
   "source": [
    "est.fit(x,y)\n",
    "replace_ops = {\"add\": \"+\", \"mul\": \"*\", \"sub\": \"-\", \"pow\": \"**\", \"inv\": \"1/\"}\n",
    "model_str = est.retrieve_tree(with_infos=True)[\"relabed_predicted_tree\"].infix()\n",
    "for op,replace_op in replace_ops.items():\n",
    "    model_str = model_str.replace(op,replace_op)\n",
    "display(sp.parse_expr(model_str))"
   ]
  },
  {
   "cell_type": "code",
   "execution_count": 66,
   "metadata": {},
   "outputs": [],
   "source": [
    "y_pred = est.predict(x)"
   ]
  },
  {
   "cell_type": "code",
   "execution_count": 67,
   "metadata": {},
   "outputs": [
    {
     "data": {
      "text/plain": [
       "0.005183158217812671"
      ]
     },
     "execution_count": 67,
     "metadata": {},
     "output_type": "execute_result"
    }
   ],
   "source": [
    "np.linalg.norm(y_pred - y) / len(y)"
   ]
  },
  {
   "cell_type": "code",
   "execution_count": 62,
   "metadata": {},
   "outputs": [
    {
     "data": {
      "text/plain": [
       "[<matplotlib.lines.Line2D at 0x7fe445585350>]"
      ]
     },
     "execution_count": 62,
     "metadata": {},
     "output_type": "execute_result"
    },
    {
     "data": {
      "image/png": "[encoded data removed]",
      "text/plain": [
       "<Figure size 432x288 with 1 Axes>"
      ]
     },
     "metadata": {
      "needs_background": "light"
     },
     "output_type": "display_data"
    }
   ],
   "source": [
    "index = np.argsort(x[:,0])\n",
    "plt.plot(x[index], y[index])\n",
    "plt.plot(x[index], y_pred[index])"
   ]
  }
 ],
 "metadata": {
  "kernelspec": {
   "display_name": "Python 3",
   "language": "python",
   "name": "python3"
  },
  "language_info": {
   "codemirror_mode": {
    "name": "ipython",
    "version": 3
   },
   "file_extension": ".py",
   "mimetype": "text/x-python",
   "name": "python",
   "nbconvert_exporter": "python",
   "pygments_lexer": "ipython3",
   "version": "3.7.12"
  }
 },
 "nbformat": 4,
 "nbformat_minor": 5
}
